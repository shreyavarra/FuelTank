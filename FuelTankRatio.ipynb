{
 "cells": [
  {
   "cell_type": "markdown",
   "metadata": {},
   "source": [
    "## Solving Cartalk Problem in Show #1045: Pi Over Two Dopes "
   ]
  },
  {
   "cell_type": "code",
   "execution_count": 1,
   "metadata": {},
   "outputs": [],
   "source": [
    "import math\n",
    "import numpy as np"
   ]
  },
  {
   "cell_type": "markdown",
   "metadata": {},
   "source": [
    "## Compute fraction of area covered by a slice of circle\n",
    "\n",
    "\n",
    "![](fueltank2.svg \"SVG Diagram1\")\n",
    "\n",
    "#### Goal: Calculate area of under the chord $ACBD$ of height $h$ as a fraction of area of the circle.\n",
    "\n",
    "Let \n",
    "$p=\\frac{h}{r}$\n",
    "\n",
    "$w = \\sqrt{r^2 - (r-h)^2} = r\\sqrt{1-(\\frac{r-h}{r})^2} =  r\\sqrt{1-(1-p)^2} = r\\sqrt{1-1+2p-p^2} = r\\sqrt{2p-p^2}$\n",
    "\n",
    "$\\cos \\theta = \\frac{r-h}{r} = 1-p$ \n",
    "\n",
    "$\\theta = \\cos^{-1}(1-p)$\n",
    "\n",
    "Area of pie AOD = $\\frac{AreaOfCircle}{2\\pi}\\theta = \\frac{\\pi r^2}{2\\pi}\\theta = \\frac{r^2\\cos^{-1}(1-p)}{2}$\n",
    "\n",
    "Area of $\\Delta AOC = \\frac{1}{2}(r-h)w = \\frac{1}{2}(r-h)r\\sqrt{2p-p^2} = \\frac{r^2}{2}(1-p)\\sqrt{2p-p^2}$\n",
    "\n",
    "Area of chord ACBD = $2\\times$AreaOfHalfChordACD = $2\\times$(AreaOfPieAOD - Area of $\\Delta AOC$) = $2\\left(\\frac{r^2\\cos^{-1}(1-p)}{2} - \\frac{r^2}{2}(1-p)\\sqrt{2p-p^2}\\right)$ = $r^2\\left(\\cos^{-1}(1-p) - (1-p)\\sqrt{2p-p^2}\\right)$\n",
    "\n",
    "Area of chord ACBD as a ratio of area of circle = $\\frac{1}{\\pi r^2}r^2\\left(\\cos^{-1}(1-p) - (1-p)\\sqrt{2p-p^2}\\right)  = \\frac{\\cos^{-1}(1-p) - (1-p)\\sqrt{2p-p^2}}{\\pi}$\n",
    "\n"
   ]
  },
  {
   "cell_type": "code",
   "execution_count": 2,
   "metadata": {},
   "outputs": [
    {
     "name": "stdout",
     "output_type": "stream",
     "text": [
      "area_of_chord_as_fraction(0) = 0.00\n",
      "area_of_chord_as_fraction(1) = 0.50\n",
      "area_of_chord_as_fraction(0.59604) = 0.25\n"
     ]
    }
   ],
   "source": [
    "number_of_evals = 0\n",
    "\n",
    "def area_of_chord_as_fraction(p):\n",
    "    '''\n",
    "    p: ratio of height of chord to radius\n",
    "    returns: Fraction of area covered by the chord at height h\n",
    "    '''\n",
    "    global number_of_evals\n",
    "    number_of_evals += 1\n",
    "    return (np.arccos(1-p) - (1-p)*np.sqrt(2*p-p*p))/np.pi\n",
    "\n",
    "for p in [0, 1, 0.59604]:\n",
    "    print(f\"area_of_chord_as_fraction({p}) = {area_of_chord_as_fraction(p):.2f}\")\n"
   ]
  },
  {
   "cell_type": "code",
   "execution_count": 10,
   "metadata": {},
   "outputs": [
    {
     "name": "stdout",
     "output_type": "stream",
     "text": [
      "Solution cost 1000000 evaluations\n"
     ]
    },
    {
     "data": {
      "text/plain": [
       "0.5960278960278961"
      ]
     },
     "execution_count": 10,
     "metadata": {},
     "output_type": "execute_result"
    }
   ],
   "source": [
    "def solve_brute_force(target_area_fraction):\n",
    "    '''\n",
    "    Brute force of computing area_fractions for different heights and locating the solution.    \n",
    "    '''\n",
    "    global number_of_evals\n",
    "    number_of_evals = 0\n",
    "    prange = np.linspace(0, 1.1, 1000000)\n",
    "    frange = area_of_chord_as_fraction(prange)\n",
    "    sol_range = frange > target_area_fraction\n",
    "    sol_index = np.argmax(sol_range)\n",
    "    sol = prange[sol_index]\n",
    "    print(f\"Solution cost {number_of_evals*len(prange)} evaluations\")\n",
    "    return sol\n",
    "\n",
    "solve_brute_force(.25)\n",
    "    "
   ]
  },
  {
   "cell_type": "code",
   "execution_count": 4,
   "metadata": {},
   "outputs": [
    {
     "name": "stdout",
     "output_type": "stream",
     "text": [
      "Solution cost 20 evaluations\n"
     ]
    },
    {
     "data": {
      "text/plain": [
       "0.5960274275909302"
      ]
     },
     "execution_count": 4,
     "metadata": {},
     "output_type": "execute_result"
    }
   ],
   "source": [
    "from scipy.optimize import minimize_scalar\n",
    "\n",
    "def solve_optimal(target_area_fraction):\n",
    "    '''\n",
    "    Optimal way of solving using scipy.optimize ()\n",
    "    '''\n",
    "    global number_of_evals\n",
    "    number_of_evals = 0\n",
    "    \n",
    "    f = lambda x: abs(target_area_fraction - area_of_chord_as_fraction(x))\n",
    "    result = minimize_scalar(f, bounds=(0,1), method='bounded')\n",
    "    assert result.success, f\"Failed to find minmimum {result}\"\n",
    "    print(f\"Solution cost {number_of_evals} evaluations\")\n",
    "    return result.x\n",
    "\n",
    "solve_optimal(.25)"
   ]
  },
  {
   "cell_type": "code",
   "execution_count": 11,
   "metadata": {},
   "outputs": [
    {
     "name": "stdout",
     "output_type": "stream",
     "text": [
      "Solution cost 1000000 evaluations\n",
      "Wall time: 55 ms\n"
     ]
    },
    {
     "data": {
      "text/plain": [
       "0.5960278960278961"
      ]
     },
     "execution_count": 11,
     "metadata": {},
     "output_type": "execute_result"
    }
   ],
   "source": [
    "%%time\n",
    "solve_brute_force(.25)"
   ]
  },
  {
   "cell_type": "code",
   "execution_count": 12,
   "metadata": {},
   "outputs": [
    {
     "name": "stdout",
     "output_type": "stream",
     "text": [
      "Solution cost 20 evaluations\n",
      "Wall time: 2 ms\n"
     ]
    },
    {
     "data": {
      "text/plain": [
       "0.5960274275909302"
      ]
     },
     "execution_count": 12,
     "metadata": {},
     "output_type": "execute_result"
    }
   ],
   "source": [
    "%%time\n",
    "solve_optimal(.25)"
   ]
  },
  {
   "cell_type": "code",
   "execution_count": null,
   "metadata": {},
   "outputs": [],
   "source": []
  }
 ],
 "metadata": {
  "kernelspec": {
   "display_name": "Python 3",
   "language": "python",
   "name": "python3"
  },
  "language_info": {
   "codemirror_mode": {
    "name": "ipython",
    "version": 3
   },
   "file_extension": ".py",
   "mimetype": "text/x-python",
   "name": "python",
   "nbconvert_exporter": "python",
   "pygments_lexer": "ipython3",
   "version": "3.7.3"
  }
 },
 "nbformat": 4,
 "nbformat_minor": 2
}
